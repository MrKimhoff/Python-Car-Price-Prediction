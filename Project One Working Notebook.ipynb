{
 "cells": [
  {
   "cell_type": "markdown",
   "source": [
    "# Taylor Imhof\n",
    "# Bellevue University | DSC 680\n",
    "# Project One Notebook"
   ],
   "metadata": {
    "collapsed": false,
    "pycharm": {
     "name": "#%% md\n"
    }
   }
  },
  {
   "cell_type": "code",
   "execution_count": 1,
   "outputs": [],
   "source": [
    "# import required libraries\n",
    "import pandas as pd\n",
    "import numpy as np\n",
    "\n",
    "# visualization packages\n",
    "import matplotlib.pyplot as plt\n",
    "import seaborn as sns\n",
    "sns.set_style('darkgrid')"
   ],
   "metadata": {
    "collapsed": false,
    "pycharm": {
     "name": "#%%\n"
    }
   }
  },
  {
   "cell_type": "markdown",
   "source": [
    "## Loading the Cars Dataset"
   ],
   "metadata": {
    "collapsed": false,
    "pycharm": {
     "name": "#%% md\n"
    }
   }
  },
  {
   "cell_type": "code",
   "execution_count": 2,
   "outputs": [
    {
     "data": {
      "text/plain": "   car_ID  symboling                   CarName fueltype aspiration doornumber  \\\n0       1          3        alfa-romero giulia      gas        std        two   \n1       2          3       alfa-romero stelvio      gas        std        two   \n2       3          1  alfa-romero Quadrifoglio      gas        std        two   \n3       4          2               audi 100 ls      gas        std       four   \n4       5          2                audi 100ls      gas        std       four   \n\n       carbody drivewheel enginelocation  wheelbase  ...  enginesize  \\\n0  convertible        rwd          front       88.6  ...         130   \n1  convertible        rwd          front       88.6  ...         130   \n2    hatchback        rwd          front       94.5  ...         152   \n3        sedan        fwd          front       99.8  ...         109   \n4        sedan        4wd          front       99.4  ...         136   \n\n   fuelsystem  boreratio  stroke compressionratio horsepower  peakrpm citympg  \\\n0        mpfi       3.47    2.68              9.0        111     5000      21   \n1        mpfi       3.47    2.68              9.0        111     5000      21   \n2        mpfi       2.68    3.47              9.0        154     5000      19   \n3        mpfi       3.19    3.40             10.0        102     5500      24   \n4        mpfi       3.19    3.40              8.0        115     5500      18   \n\n   highwaympg    price  \n0          27  13495.0  \n1          27  16500.0  \n2          26  16500.0  \n3          30  13950.0  \n4          22  17450.0  \n\n[5 rows x 26 columns]",
      "text/html": "<div>\n<style scoped>\n    .dataframe tbody tr th:only-of-type {\n        vertical-align: middle;\n    }\n\n    .dataframe tbody tr th {\n        vertical-align: top;\n    }\n\n    .dataframe thead th {\n        text-align: right;\n    }\n</style>\n<table border=\"1\" class=\"dataframe\">\n  <thead>\n    <tr style=\"text-align: right;\">\n      <th></th>\n      <th>car_ID</th>\n      <th>symboling</th>\n      <th>CarName</th>\n      <th>fueltype</th>\n      <th>aspiration</th>\n      <th>doornumber</th>\n      <th>carbody</th>\n      <th>drivewheel</th>\n      <th>enginelocation</th>\n      <th>wheelbase</th>\n      <th>...</th>\n      <th>enginesize</th>\n      <th>fuelsystem</th>\n      <th>boreratio</th>\n      <th>stroke</th>\n      <th>compressionratio</th>\n      <th>horsepower</th>\n      <th>peakrpm</th>\n      <th>citympg</th>\n      <th>highwaympg</th>\n      <th>price</th>\n    </tr>\n  </thead>\n  <tbody>\n    <tr>\n      <th>0</th>\n      <td>1</td>\n      <td>3</td>\n      <td>alfa-romero giulia</td>\n      <td>gas</td>\n      <td>std</td>\n      <td>two</td>\n      <td>convertible</td>\n      <td>rwd</td>\n      <td>front</td>\n      <td>88.6</td>\n      <td>...</td>\n      <td>130</td>\n      <td>mpfi</td>\n      <td>3.47</td>\n      <td>2.68</td>\n      <td>9.0</td>\n      <td>111</td>\n      <td>5000</td>\n      <td>21</td>\n      <td>27</td>\n      <td>13495.0</td>\n    </tr>\n    <tr>\n      <th>1</th>\n      <td>2</td>\n      <td>3</td>\n      <td>alfa-romero stelvio</td>\n      <td>gas</td>\n      <td>std</td>\n      <td>two</td>\n      <td>convertible</td>\n      <td>rwd</td>\n      <td>front</td>\n      <td>88.6</td>\n      <td>...</td>\n      <td>130</td>\n      <td>mpfi</td>\n      <td>3.47</td>\n      <td>2.68</td>\n      <td>9.0</td>\n      <td>111</td>\n      <td>5000</td>\n      <td>21</td>\n      <td>27</td>\n      <td>16500.0</td>\n    </tr>\n    <tr>\n      <th>2</th>\n      <td>3</td>\n      <td>1</td>\n      <td>alfa-romero Quadrifoglio</td>\n      <td>gas</td>\n      <td>std</td>\n      <td>two</td>\n      <td>hatchback</td>\n      <td>rwd</td>\n      <td>front</td>\n      <td>94.5</td>\n      <td>...</td>\n      <td>152</td>\n      <td>mpfi</td>\n      <td>2.68</td>\n      <td>3.47</td>\n      <td>9.0</td>\n      <td>154</td>\n      <td>5000</td>\n      <td>19</td>\n      <td>26</td>\n      <td>16500.0</td>\n    </tr>\n    <tr>\n      <th>3</th>\n      <td>4</td>\n      <td>2</td>\n      <td>audi 100 ls</td>\n      <td>gas</td>\n      <td>std</td>\n      <td>four</td>\n      <td>sedan</td>\n      <td>fwd</td>\n      <td>front</td>\n      <td>99.8</td>\n      <td>...</td>\n      <td>109</td>\n      <td>mpfi</td>\n      <td>3.19</td>\n      <td>3.40</td>\n      <td>10.0</td>\n      <td>102</td>\n      <td>5500</td>\n      <td>24</td>\n      <td>30</td>\n      <td>13950.0</td>\n    </tr>\n    <tr>\n      <th>4</th>\n      <td>5</td>\n      <td>2</td>\n      <td>audi 100ls</td>\n      <td>gas</td>\n      <td>std</td>\n      <td>four</td>\n      <td>sedan</td>\n      <td>4wd</td>\n      <td>front</td>\n      <td>99.4</td>\n      <td>...</td>\n      <td>136</td>\n      <td>mpfi</td>\n      <td>3.19</td>\n      <td>3.40</td>\n      <td>8.0</td>\n      <td>115</td>\n      <td>5500</td>\n      <td>18</td>\n      <td>22</td>\n      <td>17450.0</td>\n    </tr>\n  </tbody>\n</table>\n<p>5 rows × 26 columns</p>\n</div>"
     },
     "execution_count": 2,
     "metadata": {},
     "output_type": "execute_result"
    }
   ],
   "source": [
    "# read in cars data to pandas dataframe\n",
    "df = pd.read_csv('data/cars.csv')\n",
    "df.head()"
   ],
   "metadata": {
    "collapsed": false,
    "pycharm": {
     "name": "#%%\n"
    }
   }
  },
  {
   "cell_type": "code",
   "execution_count": 3,
   "outputs": [
    {
     "data": {
      "text/plain": "(205, 26)"
     },
     "execution_count": 3,
     "metadata": {},
     "output_type": "execute_result"
    }
   ],
   "source": [
    "# view general dataset info\n",
    "df.shape"
   ],
   "metadata": {
    "collapsed": false,
    "pycharm": {
     "name": "#%%\n"
    }
   }
  },
  {
   "cell_type": "code",
   "execution_count": null,
   "outputs": [],
   "source": [
    "# view summary stats of the dataset\n",
    "df.describe()"
   ],
   "metadata": {
    "collapsed": false,
    "pycharm": {
     "name": "#%%\n",
     "is_executing": true
    }
   }
  },
  {
   "cell_type": "markdown",
   "source": [
    "This dataset is quite small, containing just over 200 observations with 26 features"
   ],
   "metadata": {
    "collapsed": false,
    "pycharm": {
     "name": "#%% md\n"
    }
   }
  },
  {
   "cell_type": "code",
   "execution_count": null,
   "outputs": [],
   "source": [
    "df.dtypes"
   ],
   "metadata": {
    "collapsed": false,
    "pycharm": {
     "name": "#%%\n",
     "is_executing": true
    }
   }
  },
  {
   "cell_type": "markdown",
   "source": [
    "There appears to be a decent amount of both continuous and categorical variables that will be useful when training the prediction model. Based on some of the data types, there are some features that need to be converted to proper format for analysis purposes.\n",
    "\n",
    "Time to take a deeper look at the data to see if any underlying trends can be uncovered"
   ],
   "metadata": {
    "collapsed": false,
    "pycharm": {
     "name": "#%% md\n"
    }
   }
  },
  {
   "cell_type": "markdown",
   "source": [
    "# Data Cleaning"
   ],
   "metadata": {
    "collapsed": false,
    "pycharm": {
     "name": "#%% md\n"
    }
   }
  },
  {
   "cell_type": "code",
   "execution_count": null,
   "outputs": [],
   "source": [
    "# extract the first word from the car name feature\n",
    "make = df['CarName'].apply(lambda x: x.split(' ')[0])\n",
    "\n",
    "# insert new manufacturer into dataframe\n",
    "df.insert(3, 'make', make)\n",
    "\n",
    "# drop now redundant carname column from dataframe\n",
    "# also drop other columns that are not useful like id and symboling columns\n",
    "df.drop(columns=['car_ID', 'symboling', 'CarName'], axis=1, inplace=True)\n",
    "df.head()"
   ],
   "metadata": {
    "collapsed": false,
    "pycharm": {
     "name": "#%%\n",
     "is_executing": true
    }
   }
  },
  {
   "cell_type": "code",
   "execution_count": null,
   "outputs": [],
   "source": [
    "# check how many unique manufacturers are contained in the dataset\n",
    "df.make.unique()"
   ],
   "metadata": {
    "collapsed": false,
    "pycharm": {
     "name": "#%%\n",
     "is_executing": true
    }
   }
  },
  {
   "cell_type": "markdown",
   "source": [
    "There appear to be some typos in the dataset where the person encoding the data likely made a mistake during data entry.\n",
    "\n",
    "To fix this, we will use a simply utility function to replace the typos with the correct spelling"
   ],
   "metadata": {
    "collapsed": false,
    "pycharm": {
     "name": "#%% md\n"
    }
   }
  },
  {
   "cell_type": "code",
   "execution_count": null,
   "outputs": [],
   "source": [
    "# utility function that takes typo and replaces with correct spelling\n",
    "def fix_typos(a, b):\n",
    "    df.make.replace(a, b, inplace=True)"
   ],
   "metadata": {
    "collapsed": false,
    "pycharm": {
     "name": "#%%\n",
     "is_executing": true
    }
   }
  },
  {
   "cell_type": "code",
   "execution_count": null,
   "outputs": [],
   "source": [
    "# normalize all make name by making them lowercase\n",
    "df.make = df.make.str.lower()\n",
    "\n",
    "# call fix typos function on all erroneous make names\n",
    "fix_typos('maxda','mazda')\n",
    "fix_typos('porcshce','porsche')\n",
    "fix_typos('toyouta','toyota')\n",
    "fix_typos('vokswagen','volkswagen')\n",
    "fix_typos('vw','volkswagen')"
   ],
   "metadata": {
    "collapsed": false,
    "pycharm": {
     "name": "#%%\n",
     "is_executing": true
    }
   }
  },
  {
   "cell_type": "code",
   "execution_count": null,
   "outputs": [],
   "source": [
    "# view unique values again to ensure there are no other typos\n",
    "df.make.unique()"
   ],
   "metadata": {
    "collapsed": false,
    "pycharm": {
     "name": "#%%\n",
     "is_executing": true
    }
   }
  },
  {
   "cell_type": "code",
   "execution_count": null,
   "outputs": [],
   "source": [
    "# check for missing values\n",
    "df.isnull().sum()"
   ],
   "metadata": {
    "collapsed": false,
    "pycharm": {
     "name": "#%%\n",
     "is_executing": true
    }
   }
  },
  {
   "cell_type": "code",
   "execution_count": null,
   "outputs": [],
   "source": [
    "# check for duplicate values\n",
    "df.duplicated().value_counts()"
   ],
   "metadata": {
    "collapsed": false,
    "pycharm": {
     "name": "#%%\n",
     "is_executing": true
    }
   }
  },
  {
   "cell_type": "markdown",
   "source": [
    "Fortunately, for this dataset there does not appear to be any missing values"
   ],
   "metadata": {
    "collapsed": false,
    "pycharm": {
     "name": "#%% md\n"
    }
   }
  },
  {
   "cell_type": "markdown",
   "source": [
    "# Data Visualization"
   ],
   "metadata": {
    "collapsed": false,
    "pycharm": {
     "name": "#%% md\n"
    }
   }
  },
  {
   "cell_type": "markdown",
   "source": [
    "The first data point that I feel would be interesting to zone in on is the target or the price point that the cars have been sold at.\n",
    "\n",
    "This feature is captured in the `price` column"
   ],
   "metadata": {
    "collapsed": false,
    "pycharm": {
     "name": "#%% md\n"
    }
   }
  },
  {
   "cell_type": "code",
   "execution_count": null,
   "outputs": [],
   "source": [
    "# plot feature column price [distribution plot and boxplot]\n",
    "plt.figure(figsize=(15,5))\n",
    "\n",
    "plt.subplot(1,2,1)\n",
    "plt.title('Price Distribution')\n",
    "sns.distplot(df.price)\n",
    "\n",
    "plt.subplot(1,2,2)\n",
    "plt.title('Price Boxplot')\n",
    "sns.boxplot(y=df.price)\n",
    "\n",
    "plt.show()"
   ],
   "metadata": {
    "collapsed": false,
    "pycharm": {
     "name": "#%%\n",
     "is_executing": true
    }
   }
  },
  {
   "cell_type": "markdown",
   "source": [
    "Based off the distribution plot of the `price` target column, the prices do appear to have a slight positive skew.\n",
    "\n",
    "Looking at the boxplot, there do appear to be quite a few outliers on the high end, so perhaps performing a logarithmic transformation would be beneficial."
   ],
   "metadata": {
    "collapsed": false,
    "pycharm": {
     "name": "#%% md\n"
    }
   }
  },
  {
   "cell_type": "code",
   "execution_count": null,
   "outputs": [],
   "source": [
    "# create log transformation column on target column price\n",
    "df['log_price'] = np.log1p(df['price'])\n",
    "df['log_price'].head()"
   ],
   "metadata": {
    "collapsed": false,
    "pycharm": {
     "name": "#%%\n",
     "is_executing": true
    }
   }
  },
  {
   "cell_type": "code",
   "execution_count": null,
   "outputs": [],
   "source": [
    "# re-plot dist and boxplot to see effects of log transformation\n",
    "plt.figure(figsize=(15,5))\n",
    "\n",
    "plt.subplot(1,2,1)\n",
    "plt.title('Price Distribution')\n",
    "sns.distplot(df.log_price)\n",
    "\n",
    "plt.subplot(1,2,2)\n",
    "plt.title('Price Boxplot')\n",
    "sns.boxplot(y=df.log_price)\n",
    "\n",
    "plt.show()"
   ],
   "metadata": {
    "collapsed": false,
    "pycharm": {
     "name": "#%%\n",
     "is_executing": true
    }
   }
  },
  {
   "cell_type": "markdown",
   "source": [
    "After performing the log transformation, the target data does appear to be more normally distributed, and the boxplot indicates that there are nearly zero outliers.\n",
    "\n",
    "I plan on training the model using both with and without a transformed target to see if there are any effects to prediction performance."
   ],
   "metadata": {
    "collapsed": false,
    "pycharm": {
     "name": "#%% md\n"
    }
   }
  },
  {
   "cell_type": "markdown",
   "source": [
    "There were quite a few categorical columns measured in this dataset. For model training purposes, in order to make these features more understandable to the machine, we will use an encoder. This is pretty standard for these types of problems."
   ],
   "metadata": {
    "collapsed": false,
    "pycharm": {
     "name": "#%% md\n"
    }
   }
  },
  {
   "cell_type": "code",
   "execution_count": null,
   "outputs": [],
   "source": [
    "# extract all categorical columns into separate dataframe\n",
    "cat_cols = df.select_dtypes(exclude=['number'])\n",
    "cat_cols.dtypes"
   ],
   "metadata": {
    "collapsed": false,
    "pycharm": {
     "name": "#%%\n",
     "is_executing": true
    }
   }
  },
  {
   "cell_type": "code",
   "execution_count": null,
   "outputs": [],
   "source": [
    "# encode cat columns\n",
    "from sklearn.preprocessing import LabelEncoder\n",
    "\n",
    "# create new label encoder object\n",
    "le = LabelEncoder()\n",
    "\n",
    "# iterate across all cat columns in dataframe and encode to numeric value\n",
    "for col in cat_cols:\n",
    "    if col in df.columns:\n",
    "        le.fit(list(df[col].astype(str).values))\n",
    "        df[col] = le.transform(list(df[col].astype(str).values))"
   ],
   "metadata": {
    "collapsed": false,
    "pycharm": {
     "name": "#%%\n",
     "is_executing": true
    }
   }
  },
  {
   "cell_type": "code",
   "execution_count": null,
   "outputs": [],
   "source": [
    "df.dtypes"
   ],
   "metadata": {
    "collapsed": false,
    "pycharm": {
     "name": "#%%\n",
     "is_executing": true
    }
   }
  },
  {
   "cell_type": "markdown",
   "source": [
    "## Correlation Matrix\n",
    "\n",
    "Correlation matrices are great at getting an understanding of how the underlying data relates, especially with regard to the target `price`"
   ],
   "metadata": {
    "collapsed": false,
    "pycharm": {
     "name": "#%% md\n"
    }
   }
  },
  {
   "cell_type": "code",
   "execution_count": null,
   "outputs": [],
   "source": [
    "# sort corr matrix\n",
    "plt.figure(figsize=(20,15))\n",
    "sns.heatmap(df.corr().sort_values(by=['price'], ascending=False),\n",
    "            annot=True, cmap='coolwarm', vmin=-1\n",
    "            )"
   ],
   "metadata": {
    "collapsed": false,
    "pycharm": {
     "name": "#%%\n",
     "is_executing": true
    }
   }
  },
  {
   "cell_type": "markdown",
   "source": [
    "Heatmaps are great at getting an at-a-glance insight into potential features that might be good predictors for the target `price`\n",
    "\n",
    "On the positive side, it would appear that the columns `enginesize`, `curbweight`, `carwidth`, and `horsepower` have a highly positive correlation with the target column.\n",
    "\n",
    "On the negative side,  `highwaympg` and `citympg` are negatively correlated with the price target. This would indicate the as the selling price of the vehicle increases, the efficiency  of the vehicle decreases.\n",
    "\n",
    "In a similar vein, these two features appear to be potentially multi-correlated, as they measure very similar information. As such, I will likely opt to select only one of them for model training purposes. Perhaps I could train the model with each one individually and measure performance to see which is more predictive."
   ],
   "metadata": {
    "collapsed": false,
    "pycharm": {
     "name": "#%% md\n"
    }
   }
  },
  {
   "cell_type": "markdown",
   "source": [
    "## Scatterplots For Potentially Informative Features"
   ],
   "metadata": {
    "collapsed": false,
    "pycharm": {
     "name": "#%% md\n"
    }
   }
  },
  {
   "cell_type": "code",
   "execution_count": null,
   "outputs": [],
   "source": [
    "# scatter between horsepower and price\n",
    "# used regplot to add additional fitted regression line\n",
    "plt.figure(figsize=(10,5))\n",
    "sns.regplot(data=df, x='price', y='horsepower')\n",
    "plt.title('Regplot: Price vs Horsepower')"
   ],
   "metadata": {
    "collapsed": false,
    "pycharm": {
     "name": "#%%\n",
     "is_executing": true
    }
   }
  },
  {
   "cell_type": "code",
   "execution_count": null,
   "outputs": [],
   "source": [
    "plt.figure(figsize=(10,5))\n",
    "sns.regplot(data=df, x='log_price', y='horsepower')\n",
    "plt.title('Regplot: LogPrice vs Horsepower')"
   ],
   "metadata": {
    "collapsed": false,
    "pycharm": {
     "name": "#%%\n",
     "is_executing": true
    }
   }
  },
  {
   "cell_type": "code",
   "execution_count": null,
   "outputs": [],
   "source": [
    "# display regplots for other possible explanatory variables\n",
    "fig, axs = plt.subplots(2, 2, figsize=(15,10))\n",
    "\n",
    "sns.regplot(data=df, x='price', y='enginesize', ax=axs[0,0])\n",
    "sns.regplot(data=df, x='price', y='curbweight', ax=axs[0,1])\n",
    "sns.regplot(data=df, x='price', y='carheight', ax=axs[1,0])\n",
    "sns.regplot(data=df, x='price', y='horsepower', ax=axs[1,1])\n",
    "\n",
    "axs[0,0].set_title('Regplot: Price vs Engine Size')\n",
    "axs[0,1].set_title('Regplot: Price vs Curb Weight')\n",
    "axs[1,0].set_title('Regplot: Price vs Curb Height')\n",
    "axs[1,1].set_title('Regplot: Price vs Horse Power')\n",
    "\n",
    "plt.show()"
   ],
   "metadata": {
    "collapsed": false,
    "pycharm": {
     "name": "#%%\n",
     "is_executing": true
    }
   }
  },
  {
   "cell_type": "code",
   "execution_count": null,
   "outputs": [],
   "source": [
    "# display same plots but against logarithmic transformed price target\n",
    "# display regplots for other possible explanatory variables\n",
    "fix, axs = plt.subplots(2, 2, figsize=(15,10))\n",
    "\n",
    "sns.regplot(data=df, x='log_price', y='enginesize', ax=axs[0,0])\n",
    "sns.regplot(data=df, x='log_price', y='curbweight', ax=axs[0,1])\n",
    "sns.regplot(data=df, x='log_price', y='carheight', ax=axs[1,0])\n",
    "sns.regplot(data=df, x='log_price', y='horsepower', ax=axs[1,1])\n",
    "\n",
    "axs[0,0].set_title('Regplot: LogPrice vs Engine Size')\n",
    "axs[0,1].set_title('Regplot: LogPrice vs Curb Weight')\n",
    "axs[1,0].set_title('Regplot: LogPrice vs Curb Height')\n",
    "axs[1,1].set_title('Regplot: LogPrice vs Horse Power')\n",
    "\n",
    "plt.show()"
   ],
   "metadata": {
    "collapsed": false,
    "pycharm": {
     "name": "#%%\n",
     "is_executing": true
    }
   }
  },
  {
   "cell_type": "markdown",
   "source": [
    "When comparing the regplots against the untransformed and transformed `price` target, the features seem to have a stronger linear relationship with the `log_price`.\n",
    "\n",
    "For testing purposes, I do plan on training my models against both target to gauge their respective performances."
   ],
   "metadata": {
    "collapsed": false,
    "pycharm": {
     "name": "#%% md\n"
    }
   }
  },
  {
   "cell_type": "markdown",
   "source": [
    "Taking a look at this scatterplot, the `horsepower` feature appears to have a linear correlation with the target `price`.\n",
    "\n",
    "It should be noted that as the price increases, the horsepower feature seems to experience more variance."
   ],
   "metadata": {
    "collapsed": false,
    "pycharm": {
     "name": "#%% md\n"
    }
   }
  },
  {
   "cell_type": "markdown",
   "source": [
    "## Data Pre-Processing"
   ],
   "metadata": {
    "collapsed": false,
    "pycharm": {
     "name": "#%% md\n"
    }
   }
  },
  {
   "cell_type": "code",
   "execution_count": null,
   "outputs": [],
   "source": [
    "# convert floats to ints\n",
    "float_cols = [\"wheelbase\",\"carlength\",\"carwidth\",\"carheight\",\n",
    "              \"boreratio\",\"stroke\",\"compressionratio\"]\n",
    "df[float_cols] = df[float_cols].astype('int32')\n",
    "\n",
    "df.dtypes"
   ],
   "metadata": {
    "collapsed": false,
    "pycharm": {
     "name": "#%%\n",
     "is_executing": true
    }
   }
  },
  {
   "cell_type": "code",
   "execution_count": null,
   "outputs": [],
   "source": [
    "# assign features and target to separate dataframes/index\n",
    "X1 = df.drop(columns=['price', 'log_price'], axis=1)\n",
    "y1 = df['price']\n",
    "\n",
    "X2 = df.drop(columns=['price', 'log_price'], axis=1)\n",
    "y2 = df['log_price']"
   ],
   "metadata": {
    "collapsed": false,
    "pycharm": {
     "name": "#%%\n",
     "is_executing": true
    }
   }
  },
  {
   "cell_type": "code",
   "execution_count": null,
   "outputs": [],
   "source": [
    "print(X1.shape, X2.shape)\n",
    "print(y1.shape, y2.shape)"
   ],
   "metadata": {
    "collapsed": false,
    "pycharm": {
     "name": "#%%\n",
     "is_executing": true
    }
   }
  },
  {
   "cell_type": "code",
   "execution_count": null,
   "outputs": [],
   "source": [
    "y1.head(), y2.head()"
   ],
   "metadata": {
    "collapsed": false,
    "pycharm": {
     "name": "#%%\n",
     "is_executing": true
    }
   }
  },
  {
   "cell_type": "markdown",
   "source": [
    "# Model Training"
   ],
   "metadata": {
    "collapsed": false,
    "pycharm": {
     "name": "#%% md\n"
    }
   }
  },
  {
   "cell_type": "code",
   "execution_count": null,
   "outputs": [],
   "source": [
    "# split data into train and test split\n",
    "from sklearn.model_selection import train_test_split\n",
    "\n",
    "X_train1, X_test1, y_train1, y_test1 = train_test_split(X1, y1, test_size=0.2, random_state=42)\n",
    "X_train2, X_test2, y_train2, y_test2 = train_test_split(X2, y2, test_size=0.2, random_state=42)\n",
    "\n",
    "# view shapes of new frames/indices\n",
    "print(X_train1.shape)\n",
    "print(y_train1.shape)\n",
    "print(X_test1.shape)\n",
    "print(y_test1.shape)"
   ],
   "metadata": {
    "collapsed": false,
    "pycharm": {
     "name": "#%%\n",
     "is_executing": true
    }
   }
  },
  {
   "cell_type": "markdown",
   "source": [
    "## Simple Linear Regression Model"
   ],
   "metadata": {
    "collapsed": false,
    "pycharm": {
     "name": "#%% md\n"
    }
   }
  },
  {
   "cell_type": "code",
   "execution_count": null,
   "outputs": [],
   "source": [
    "from sklearn.linear_model import LinearRegression\n",
    "\n",
    "# create new linear regression object\n",
    "lr1 = LinearRegression()\n",
    "lr2 = LinearRegression()\n",
    "\n",
    "# fit lr model to train data\n",
    "lr1.fit(X_train1, y_train1)\n",
    "lr2.fit(X_train2, y_train2)\n",
    "\n",
    "# view simple score of test data\n",
    "print(lr1.score(X_test1, y_test1))\n",
    "print(lr2.score(X_test2, y_test2))"
   ],
   "metadata": {
    "collapsed": false,
    "pycharm": {
     "name": "#%%\n",
     "is_executing": true
    }
   }
  },
  {
   "cell_type": "markdown",
   "source": [
    "Looks like the simple linear regression model achieved a score `coefficient of determination` of 0.81. Not too terrible, but keep in mind the training data was quite small.\n",
    "\n",
    "Let's take a look at other model performance metrics"
   ],
   "metadata": {
    "collapsed": false,
    "pycharm": {
     "name": "#%% md\n"
    }
   }
  },
  {
   "cell_type": "code",
   "execution_count": null,
   "outputs": [],
   "source": [
    "from sklearn.metrics import mean_squared_error, r2_score\n",
    "\n",
    "# get predicts of trained model on test data\n",
    "preds1 = lr1.predict(X_test1)\n",
    "preds2 = lr2.predict(X_test2)\n",
    "\n",
    "# display mean squared error and r2 score\n",
    "print('MSE:', mean_squared_error(preds1, y_test1, squared=False))\n",
    "print('R2:', r2_score(y_test1, preds1))\n",
    "\n",
    "print('*' * 50)\n",
    "\n",
    "print('Log MSE:', mean_squared_error(preds2, y_test2, squared=False))\n",
    "print('Log R2:', r2_score(y_test2, preds2))"
   ],
   "metadata": {
    "collapsed": false,
    "pycharm": {
     "name": "#%%\n",
     "is_executing": true
    }
   }
  },
  {
   "cell_type": "markdown",
   "source": [
    "Reviewing these two scores, the linear model has performed with relatively high success.\n",
    "\n",
    "The MSE value of 3803.73 indicates that the mean error of the predictions is off by about $4,000 dollars. When considering buying a used car, $4k is actually quite a bit of change.\n",
    "\n",
    "The R-squared value indicates that the model can explain >80% of the variance in the entire data set. This metrics is a decent measure of goodness-of-fit.\n",
    "\n",
    "Even though these metrics are decent, I feel that we can do better. Let us try using a different model and compare the performance metrics"
   ],
   "metadata": {
    "collapsed": false,
    "pycharm": {
     "name": "#%% md\n"
    }
   }
  },
  {
   "cell_type": "markdown",
   "source": [
    "## Decision Tree Regressor"
   ],
   "metadata": {
    "collapsed": false,
    "pycharm": {
     "name": "#%% md\n"
    }
   }
  },
  {
   "cell_type": "code",
   "execution_count": null,
   "outputs": [],
   "source": [
    "from sklearn.tree import DecisionTreeRegressor\n",
    "\n",
    "# create new decision tree regressor object\n",
    "dtr1 = DecisionTreeRegressor(splitter='random')\n",
    "dtr2 = DecisionTreeRegressor(splitter='random')\n",
    "\n",
    "# fit to training data\n",
    "dtr1.fit(X_train1, y_train1)\n",
    "dtr2.fit(X_train2, y_train2)\n",
    "\n",
    "# check r2 score\n",
    "print(dtr1.score(X_test1, y_test1))\n",
    "print(dtr2.score(X_test2, y_test2))"
   ],
   "metadata": {
    "collapsed": false,
    "pycharm": {
     "name": "#%%\n",
     "is_executing": true
    }
   }
  },
  {
   "cell_type": "code",
   "execution_count": null,
   "outputs": [],
   "source": [
    "# get predicts of trained model on test data\n",
    "preds1 = dtr1.predict(X_test1)\n",
    "preds2 = dtr2.predict(X_test2)\n",
    "\n",
    "# display mean squared error and r2 score\n",
    "print('MSE:', mean_squared_error(preds1, y_test1, squared=False))\n",
    "print('R2:', r2_score(y_test1, preds1))\n",
    "\n",
    "print('*' * 50)\n",
    "\n",
    "print('Log MSE:', mean_squared_error(preds2, y_test2, squared=False))\n",
    "print('Log R2:', r2_score(y_test2, preds2))"
   ],
   "metadata": {
    "collapsed": false,
    "pycharm": {
     "name": "#%%\n",
     "is_executing": true
    }
   }
  },
  {
   "cell_type": "markdown",
   "source": [
    "Looking at the results of the Decision Tree Regressor, the model seems to have performed marginally better than the simple linear regression model.\n",
    "\n",
    "Mean-square-error is not $3,680, which is still considerable when you are thinking of purchasing a used vehicle, especially for older more run-down vehicles.\n",
    "\n",
    "The Decision Tree Regressor did achieve a slightly higher r2 score of approx 83% (explained variance).\n",
    "\n",
    "Still, I think there is some room for improvement!"
   ],
   "metadata": {
    "collapsed": false,
    "pycharm": {
     "name": "#%% md\n"
    }
   }
  },
  {
   "cell_type": "markdown",
   "source": [
    "## K-Neighbors Regressor"
   ],
   "metadata": {
    "collapsed": false,
    "pycharm": {
     "name": "#%% md\n"
    }
   }
  },
  {
   "cell_type": "code",
   "execution_count": null,
   "outputs": [],
   "source": [
    "from sklearn.neighbors import KNeighborsRegressor\n",
    "\n",
    "# try a short range of different neighbor values and determine the one with best metrics\n",
    "for i in range(1,10):\n",
    "    print(f'**************************************\\n{i}th iteration of KNR Model')\n",
    "\n",
    "    # create new knr object\n",
    "    knr = KNeighborsRegressor(n_neighbors=i)\n",
    "\n",
    "    # fit knr to train data\n",
    "    knr.fit(X_train1, y_train1)\n",
    "\n",
    "    preds = knr.predict(X_test1)\n",
    "\n",
    "    # display mean squared error\n",
    "    print('MSE:', mean_squared_error(preds, y_test1, squared=False))\n",
    "    print('R2:', r2_score(y_test1, preds))"
   ],
   "metadata": {
    "collapsed": false,
    "pycharm": {
     "name": "#%%\n",
     "is_executing": true
    }
   }
  },
  {
   "cell_type": "markdown",
   "source": [
    "After trying different values for `n`, it would appear that n=1 has the highest predictive power.\n",
    "\n",
    "We are at least moving in the right direction. The MSE is down from $3.6k to $3.3k, though this is a considerable amount of money.\n",
    "\n",
    "The r2 value also saw a slight increase, meaning that perhaps the K-neighbors Regressor is the best fitting model we have trained thus far.\n",
    "\n",
    "Let's try to train one last model to see if we can achieve higher prediction performance."
   ],
   "metadata": {
    "collapsed": false,
    "pycharm": {
     "name": "#%% md\n"
    }
   }
  },
  {
   "cell_type": "markdown",
   "source": [
    "## Random Forest Regressor"
   ],
   "metadata": {
    "collapsed": false,
    "pycharm": {
     "name": "#%% md\n"
    }
   }
  },
  {
   "cell_type": "code",
   "execution_count": null,
   "outputs": [],
   "source": [
    "from sklearn.ensemble import RandomForestRegressor\n",
    "\n",
    "# create new random forest regressor object\n",
    "rfr1 = RandomForestRegressor()\n",
    "rfr2 = RandomForestRegressor()\n",
    "\n",
    "# fit model to train data\n",
    "rfr1.fit(X_train1, y_train1)\n",
    "rfr2.fit(X_train2, y_train2)\n",
    "\n",
    "# make predictions\n",
    "preds1 = rfr1.predict(X_test1)\n",
    "preds2 = rfr2.predict(X_test2)\n",
    "\n",
    "# display performance metrics\n",
    "print('MSE:', mean_squared_error(preds1, y_test1, squared=False))\n",
    "print('R2:', r2_score(y_test1, preds1))\n",
    "print('*' * 25)\n",
    "print('Log MSE:', mean_squared_error(preds2, y_test2, squared=False))\n",
    "print('Log R2:', r2_score(y_test2, preds2))"
   ],
   "metadata": {
    "collapsed": false,
    "pycharm": {
     "name": "#%%\n",
     "is_executing": true
    }
   }
  },
  {
   "cell_type": "markdown",
   "source": [
    "There we go! That seems to be quite a bit better when compared with the previous models.\n",
    "\n",
    "Still, an MSE of $1.8k is quite considerable when shopping for a used car. I do think this model could provide prospective car buyers with a slight edge in order to combat those greedy used-car salesman.\n",
    "\n",
    "Interestingly, when comparing the results between model's training on the log price vs non-log price, only the simple linear regression saw an improvement in the r2 score (and just marginally at that). Perhaps there is a better approach to using the log transformed `price` target."
   ],
   "metadata": {
    "collapsed": false,
    "pycharm": {
     "name": "#%% md\n"
    }
   }
  }
 ],
 "metadata": {
  "kernelspec": {
   "display_name": "Python 3",
   "language": "python",
   "name": "python3"
  },
  "language_info": {
   "codemirror_mode": {
    "name": "ipython",
    "version": 2
   },
   "file_extension": ".py",
   "mimetype": "text/x-python",
   "name": "python",
   "nbconvert_exporter": "python",
   "pygments_lexer": "ipython2",
   "version": "2.7.6"
  }
 },
 "nbformat": 4,
 "nbformat_minor": 0
}